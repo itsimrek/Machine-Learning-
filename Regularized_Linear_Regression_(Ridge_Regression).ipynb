{
  "nbformat": 4,
  "nbformat_minor": 0,
  "metadata": {
    "colab": {
      "name": "Regularized Linear Regression (Ridge Regression).ipynb",
      "provenance": []
    },
    "kernelspec": {
      "name": "python3",
      "display_name": "Python 3"
    }
  },
  "cells": [
    {
      "cell_type": "code",
      "metadata": {
        "id": "NWZOyTVTTI1S"
      },
      "source": [
        "import numpy as np\r\n",
        "import pandas as pd"
      ],
      "execution_count": 2,
      "outputs": []
    },
    {
      "cell_type": "markdown",
      "metadata": {
        "id": "0S7Kk0TKU9dS"
      },
      "source": [
        "**DATA PREPROCESSING**"
      ]
    },
    {
      "cell_type": "code",
      "metadata": {
        "id": "GgffZVJjUvIO"
      },
      "source": [
        "def create_matrices(data_frame, features, outputs):\r\n",
        "  # include intercept term (w0) => add a column of 1s in feature matrix\r\n",
        "  data_frame[\"intercept\"] = 1\r\n",
        "  features = [\"intercept\"] + features\r\n",
        "  features_matrix = np.array(data_frame[features])\r\n",
        "  output_matrix = np.array(data_frame[outputs])\r\n",
        "  return features_matrix, output_matrix"
      ],
      "execution_count": 84,
      "outputs": []
    },
    {
      "cell_type": "markdown",
      "metadata": {
        "id": "QMxCoKg6S8pe"
      },
      "source": [
        "**MAKING PREDICTIONS**"
      ]
    },
    {
      "cell_type": "code",
      "metadata": {
        "id": "6bn0UphmSjWx"
      },
      "source": [
        "def predict_output(feature_matrix, weights):\r\n",
        "  return np.dot(feature_matrix, weights)"
      ],
      "execution_count": 80,
      "outputs": []
    },
    {
      "cell_type": "markdown",
      "metadata": {
        "id": "g_6Kb827TRAh"
      },
      "source": [
        "**RIDGE REGRESSION GRADIENT CALCULATION**"
      ]
    },
    {
      "cell_type": "code",
      "metadata": {
        "id": "2tShu1dmTQyK"
      },
      "source": [
        "def ridge_gradient(error, feature_matrix,  weights, l2_parameter, is_intercept):\r\n",
        "  if is_intercept:\r\n",
        "    return 2 * np.dot(np.transpose(feature_matrix), error) #intercept term is not regularized\r\n",
        "  else:\r\n",
        "   return 2 * np.dot(np.transpose(feature_matrix), error) + 2 * l2_parameter * weights"
      ],
      "execution_count": 87,
      "outputs": []
    },
    {
      "cell_type": "markdown",
      "metadata": {
        "id": "OMG43qtaX50O"
      },
      "source": [
        "**GRADIENT DESCENT**"
      ]
    },
    {
      "cell_type": "code",
      "metadata": {
        "id": "g0DhKydtX8Os"
      },
      "source": [
        "def ridge_gradient_descent(feature_matrix, output_matrix, weights, step_size, l2_parameter, max_iterations):\r\n",
        "  for i in range(max_iterations):\r\n",
        "    error = predict_output(feature_matrix, weights) - output_matrix\r\n",
        "    for j in range(len(weights)):\r\n",
        "      gradient = 0\r\n",
        "      if j == 0: #intercept term in weights\r\n",
        "        gradient = ridge_gradient(error, feature_matrix[:, j], weights[j], l2_parameter, True)\r\n",
        "      else:\r\n",
        "        gradient = ridge_gradient(error, feature_matrix[:, j], weights[j], l2_parameter, False)\r\n",
        "      weights[j] = weights[j] - step_size * gradient\r\n",
        "  return weights"
      ],
      "execution_count": 78,
      "outputs": []
    }
  ]
}
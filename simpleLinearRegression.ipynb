{
  "nbformat": 4,
  "nbformat_minor": 0,
  "metadata": {
    "colab": {
      "name": "simpleLinearRegression.ipynb",
      "provenance": [],
      "collapsed_sections": []
    },
    "kernelspec": {
      "name": "python3",
      "display_name": "Python 3"
    }
  },
  "cells": [
    {
      "cell_type": "code",
      "metadata": {
        "id": "z4k-p8sdSMry"
      },
      "source": [
        "import numpy as np\r\n",
        "import pandas as pd"
      ],
      "execution_count": 9,
      "outputs": []
    },
    {
      "cell_type": "markdown",
      "metadata": {
        "id": "b3RZlB1oSe9y"
      },
      "source": [
        "**BUILDING A SIMPLE LINEAR REGRESSION FUNCTION**"
      ]
    },
    {
      "cell_type": "code",
      "metadata": {
        "id": "IwC_1URY5Jub"
      },
      "source": [
        "def simple_linear_regression(features, output): \n",
        "    N = len(features)\n",
        "    sum_output_feature = sum(output * features)\n",
        "    slope = (sum_output_feature - ((sum(features) * sum(output))) / N) / (sum(features ** 2) - ((sum(features) ** 2) / N))\n",
        "    intercept = output.mean() - slope *  features.mean()\n",
        "    return intercept, slope"
      ],
      "execution_count": 32,
      "outputs": []
    },
    {
      "cell_type": "markdown",
      "metadata": {
        "id": "oYksN-oYSlOS"
      },
      "source": [
        "**PREDICTING VALUES**"
      ]
    },
    {
      "cell_type": "code",
      "metadata": {
        "id": "kF7mBIB05Nxg"
      },
      "source": [
        "def get_predictions(features, intercept, slope): \n",
        "    return intercept + (slope *  features)"
      ],
      "execution_count": 28,
      "outputs": []
    },
    {
      "cell_type": "markdown",
      "metadata": {
        "id": "mIcxMLD8Sv3q"
      },
      "source": [
        "**CALCULATE COST**"
      ]
    },
    {
      "cell_type": "code",
      "metadata": {
        "id": "yz_UN_bg5P75"
      },
      "source": [
        "def calculate_cost(features, output ,intercept, slope):\n",
        "    return sum((output - get_predictions(slope, intercept, features)) ** 2)"
      ],
      "execution_count": 27,
      "outputs": []
    }
  ]
}